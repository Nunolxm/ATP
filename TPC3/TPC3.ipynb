{
 "cells": [
  {
   "cell_type": "code",
   "execution_count": 91,
   "metadata": {},
   "outputs": [],
   "source": [
    "import random\n",
    "from IPython.display import clear_output\n",
    "\n",
    "global lista\n",
    "\n",
    "def criarLista():\n",
    "    res=[]\n",
    "    num=int(input(\"Insira o número de elementos da lista\"))\n",
    "    for i in range(num):\n",
    "        res.append(random.randint(1,100))\n",
    "    print(\"A sua lista é\", res)\n",
    "    return res"
   ]
  },
  {
   "cell_type": "code",
   "execution_count": 92,
   "metadata": {},
   "outputs": [],
   "source": [
    "def lerLista():\n",
    "    num=int(input(\"Insira o número de elementos da lista\"))\n",
    "    res=[]\n",
    "    for i in range(num):\n",
    "        res.append(int(input(\"Insira o {}º elemento da lista\".format(i+1))))\n",
    "    print(\"A sua lista é\", res)\n",
    "    return res"
   ]
  },
  {
   "cell_type": "code",
   "execution_count": 93,
   "metadata": {},
   "outputs": [],
   "source": [
    "def somaLista():\n",
    "    soma=0\n",
    "    for i in lista:\n",
    "        soma=soma+i\n",
    "    print(\"A soma da sua lista é\", soma)"
   ]
  },
  {
   "cell_type": "code",
   "execution_count": 94,
   "metadata": {},
   "outputs": [],
   "source": [
    "def mediaLista():\n",
    "    soma=0\n",
    "    for i in lista:\n",
    "        soma=soma+i\n",
    "    print(\"A média da sua lista é\", soma/len(lista))"
   ]
  },
  {
   "cell_type": "code",
   "execution_count": 95,
   "metadata": {},
   "outputs": [],
   "source": [
    "def maiorLista():\n",
    "    maior=lista[0]\n",
    "    for i in lista[1:]:\n",
    "        if i>maior:\n",
    "            maior=i\n",
    "    print(\"O maior elemento da sua lista é\", maior)"
   ]
  },
  {
   "cell_type": "code",
   "execution_count": 96,
   "metadata": {},
   "outputs": [],
   "source": [
    "def menorLista():\n",
    "    menor=lista[0]\n",
    "    for i in lista[1:]:\n",
    "        if i<menor:\n",
    "            menor=i\n",
    "    print(\"O menor elemento da sua lista é\", menor)"
   ]
  },
  {
   "cell_type": "code",
   "execution_count": 97,
   "metadata": {},
   "outputs": [],
   "source": [
    "def estaOrdenadaC():\n",
    "    res=True\n",
    "    for i in range(len(lista)-1):\n",
    "        if lista[i]>lista[i+1]:\n",
    "            res=False\n",
    "    if res==True:\n",
    "        print(\"A sua lista está ordenada por ordem crescente\")\n",
    "    if res==False:    \n",
    "        print(\"A sua lista não está ordenada por ordem crescente\")"
   ]
  },
  {
   "cell_type": "code",
   "execution_count": 98,
   "metadata": {},
   "outputs": [],
   "source": [
    "def estaOrdenadaD():\n",
    "    res=True\n",
    "    for i in range(len(lista)-1):\n",
    "        if lista[i]<lista[i+1]:\n",
    "            res=False\n",
    "    if res==True:\n",
    "        print(\"A sua lista está ordenada por ordem decrescente\")\n",
    "    if res==False:\n",
    "        print(\"A sua lista não está ordenada por ordem decrescente\")"
   ]
  },
  {
   "cell_type": "code",
   "execution_count": 99,
   "metadata": {},
   "outputs": [],
   "source": [
    "def indiceDe():\n",
    "    elem=int(input(\"Insira o elemento que procura:\"))\n",
    "    res=-1\n",
    "    i=0\n",
    "    while i<len(lista) and res==-1:\n",
    "        if elem==lista[i]:\n",
    "            res=i\n",
    "            print(\"O elemento\", elem, \"encontra-se na posição\", res+1)\n",
    "        i+=1\n",
    "    if elem==-1:\n",
    "        print(\"O elemento\", elem, \"não se encontra na lista\")"
   ]
  },
  {
   "cell_type": "code",
   "execution_count": 100,
   "metadata": {},
   "outputs": [],
   "source": [
    "def opt():\n",
    "    print('''Menu:\n",
    "        * (1) Criar Lista \n",
    "        * (2) Ler Lista\n",
    "        * (3) Soma\n",
    "        * (4) Média\n",
    "        * (5) Maior\n",
    "        * (6) Menor\n",
    "        * (7) está Ordenada por ordem crescente\n",
    "        * (8) está Ordenada por ordem decrescente\n",
    "        * (9) Procura um elemento\n",
    "        * (0) Sair''')\n",
    "    option=int(input('Selecione uma opção'))\n",
    "    return option"
   ]
  },
  {
   "cell_type": "code",
   "execution_count": 101,
   "metadata": {},
   "outputs": [],
   "source": [
    "def menu():\n",
    "    global lista\n",
    "    lista=[]\n",
    "    option=opt()\n",
    "    \n",
    "    while option!=0:\n",
    "        if option==1:\n",
    "            lista\n",
    "            lista=criarLista()\n",
    "            option=opt()\n",
    "        if option==2:\n",
    "            lista=lerLista()\n",
    "            option=opt()\n",
    "        if option==3:\n",
    "            somaLista()\n",
    "            option=opt()\n",
    "        if option==4:\n",
    "            mediaLista()\n",
    "            option=opt()\n",
    "        if option==5:\n",
    "            maiorLista()\n",
    "            option=opt()\n",
    "        if option==6:\n",
    "            menorLista()\n",
    "            option=opt()\n",
    "        if option==7:\n",
    "            estaOrdenadaC()\n",
    "            option=opt()\n",
    "        if option==8:\n",
    "            estaOrdenadaD()\n",
    "            option=opt()\n",
    "        if option==9:\n",
    "            indiceDe()\n",
    "            option=opt()\n",
    "    if option==0:\n",
    "        print(\"A sua lista é\", lista)"
   ]
  },
  {
   "cell_type": "code",
   "execution_count": null,
   "metadata": {},
   "outputs": [],
   "source": [
    "menu()"
   ]
  }
 ],
 "metadata": {
  "kernelspec": {
   "display_name": "Python 3.10.7 64-bit",
   "language": "python",
   "name": "python3"
  },
  "language_info": {
   "codemirror_mode": {
    "name": "ipython",
    "version": 3
   },
   "file_extension": ".py",
   "mimetype": "text/x-python",
   "name": "python",
   "nbconvert_exporter": "python",
   "pygments_lexer": "ipython3",
   "version": "3.10.7"
  },
  "orig_nbformat": 4,
  "vscode": {
   "interpreter": {
    "hash": "467fd89f2dbb8d1d6fbd0707ee10963b1d0c2b9bf13d8e2d702c68d058cfb515"
   }
  }
 },
 "nbformat": 4,
 "nbformat_minor": 2
}
